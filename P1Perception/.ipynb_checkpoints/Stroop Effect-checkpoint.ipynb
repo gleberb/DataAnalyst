{
 "cells": [
  {
   "cell_type": "markdown",
   "metadata": {},
   "source": [
    "# Estatística: A Ciência das Escolhas <br>Instruções do Projeto\n",
    "## Informações Adicionais\n",
    "Em um teste Stroop, participantes são apresentados com uma lista de palavras, e cada uma das palavras está de uma cor. A tarefa dos participantes é dizer em voz alta a cor em que a palavra foi exibida.<br> \n",
    "A tarefa tem duas condições: uma condição de palavras congruentes e uma condição de palavras incongruentes. Na condição de palavras congruentes, a palavra exibida são nomes de cores cujo os nomes são a mesma cor em que a palavra foi exibida: por exemplo, <font color='red'>RED</font>, <font color='blue'>BLUE</font>.<br> \n",
    "Na condição de palavras incongruentes, as palavras apresentadas são nomes de cores cujo os nomes não são as mesmas cores em que as palavras foram apresentadas; por exemplo, <font color='green'>PURPLE</font>, <font color='purple'>ORANGE</font>. \n",
    "Em cada caso, medimos o tempo que demora para o indivíduo falar os nomes em uma lista das cores de de tamanhos iguais.<br> Cada participante realizará o teste e tem o tempo medido para a realização do teste nas duas condições."
   ]
  },
  {
   "cell_type": "markdown",
   "metadata": {},
   "source": [
    "## Questões para Investigação\n",
    "Como nota geral, tenha certeza que você está documentando todos os recursos que você está utilizando ou se refira a eles na criação do seu projeto. Você vai precisar reportar suas fontes como parte da submissão do projeto.<br>\n",
    "\n",
    "<b>1. Qual é a nossa variável independente? Qual é a nossa variável dependente?</b> <br>\n",
    "A nossa variável independente é o conjunto de palavras em condição congruente e condição incongruente. Nossa variável dependente é o tempo de resposta que o indivíduo leva para falar o nome de cores em uma lista de tamanhos iguais (uma lista com palavras congruentes e uma lista com palavras incongruentes).<br><br>\n",
    "<b>2. Qual seria um conjunto apropriado de hipóteses para essa tarefa? Que tipo de teste estatístico você espera executar? Justifique suas escolhas.</b><br>\n",
    "Iremos verificar se o tempo de resposta é afetado quando as palavras estão em condição incongruente, em relação às palavras congruentes. Portanto, nossa hipótese nula é que a média do tempo de resposta para palavras congruentes e incongruentes seja igual a 0. Por outro lado, a hipótese alternativa, na minha visão, é que a média do tempo de resposta das palavras incongruentes seja maior que a média do tempo de resposta das palavras congruentes.<br>\n",
    "Portanto temos:<br>\n",
    "$H_0$: $\\mu_c >= \\mu_i$ <br>\n",
    "$H_a$: $\\mu_c < \\mu_i$ <br>\n",
    "Por não termos os dados da população inteira (média e desvio padrão) e ter duas amostras pequenas, acredito que o correto seja executar o \"t-test\" para verificar a hipótese. Além disso, as amostras são dependentes: os elementos que fizeram o teste para as palavras congruentes, são os mesmos elementos que fizeram o teste para as palavras incongruentes.<br>\n",
    "O teste será de uma cauda, conforme demonstrado na hipótese alternativa ($\\mu_c < \\mu_i$).\n"
   ]
  },
  {
   "cell_type": "markdown",
   "metadata": {},
   "source": [
    "<b>3. Reporte alguma estatística descritiva em relação a esse conjunto de dados. Inclua, pelo menos, uma medida de tendência central de pelo menos uma medida de variabilidade.</b>\n"
   ]
  },
  {
   "cell_type": "code",
   "execution_count": 43,
   "metadata": {
    "collapsed": false
   },
   "outputs": [],
   "source": [
    "from pandas import Series,DataFrame\n",
    "import pandas as pd\n",
    "import numpy as np\n",
    "import seaborn as sns\n",
    "import matplotlib.pyplot as plt\n",
    "import math as m\n",
    "%matplotlib inline"
   ]
  },
  {
   "cell_type": "code",
   "execution_count": 10,
   "metadata": {
    "collapsed": false
   },
   "outputs": [],
   "source": [
    "data = pd.read_csv('stroopdata.csv')"
   ]
  },
  {
   "cell_type": "code",
   "execution_count": 30,
   "metadata": {
    "collapsed": false
   },
   "outputs": [],
   "source": [
    "media_congruente = data[\"Congruent\"].mean()"
   ]
  },
  {
   "cell_type": "code",
   "execution_count": 32,
   "metadata": {
    "collapsed": false
   },
   "outputs": [],
   "source": [
    "media_incongruente = data[\"Incongruent\"].mean()"
   ]
  },
  {
   "cell_type": "code",
   "execution_count": 33,
   "metadata": {
    "collapsed": false
   },
   "outputs": [],
   "source": [
    "desvio_congruente = data[\"Congruent\"].std()"
   ]
  },
  {
   "cell_type": "code",
   "execution_count": 34,
   "metadata": {
    "collapsed": false
   },
   "outputs": [],
   "source": [
    "desvio_incongruente = data[\"Incongruent\"].std()"
   ]
  },
  {
   "cell_type": "code",
   "execution_count": 15,
   "metadata": {
    "collapsed": false
   },
   "outputs": [
    {
     "data": {
      "text/html": [
       "<div>\n",
       "<table border=\"1\" class=\"dataframe\">\n",
       "  <thead>\n",
       "    <tr style=\"text-align: right;\">\n",
       "      <th></th>\n",
       "      <th>Desvio Congruente</th>\n",
       "      <th>Desvio Incogruente</th>\n",
       "      <th>Média Congruente</th>\n",
       "      <th>Média Incongruente</th>\n",
       "    </tr>\n",
       "  </thead>\n",
       "  <tbody>\n",
       "    <tr>\n",
       "      <th>0</th>\n",
       "      <td>3.559358</td>\n",
       "      <td>4.797057</td>\n",
       "      <td>14.051125</td>\n",
       "      <td>22.015917</td>\n",
       "    </tr>\n",
       "  </tbody>\n",
       "</table>\n",
       "</div>"
      ],
      "text/plain": [
       "   Desvio Congruente  Desvio Incogruente  Média Congruente  Média Incongruente\n",
       "0           3.559358            4.797057         14.051125           22.015917"
      ]
     },
     "execution_count": 15,
     "metadata": {},
     "output_type": "execute_result"
    }
   ],
   "source": [
    "simple_data = {'Média Congruente':[media_congruente],\n",
    "              'Desvio Congruente':[desvio_congruente],\n",
    "              'Média Incongruente':[media_incongruente],\n",
    "              'Desvio Incogruente':[desvio_incongruente]}\n",
    "df_q3 = pd.DataFrame(simple_data)\n",
    "df_q3"
   ]
  },
  {
   "cell_type": "code",
   "execution_count": 17,
   "metadata": {
    "collapsed": false
   },
   "outputs": [
    {
     "data": {
      "text/html": [
       "<div>\n",
       "<table border=\"1\" class=\"dataframe\">\n",
       "  <thead>\n",
       "    <tr style=\"text-align: right;\">\n",
       "      <th></th>\n",
       "      <th>Congruent</th>\n",
       "      <th>Incongruent</th>\n",
       "    </tr>\n",
       "  </thead>\n",
       "  <tbody>\n",
       "    <tr>\n",
       "      <th>count</th>\n",
       "      <td>24.000000</td>\n",
       "      <td>24.000000</td>\n",
       "    </tr>\n",
       "    <tr>\n",
       "      <th>mean</th>\n",
       "      <td>14.051125</td>\n",
       "      <td>22.015917</td>\n",
       "    </tr>\n",
       "    <tr>\n",
       "      <th>std</th>\n",
       "      <td>3.559358</td>\n",
       "      <td>4.797057</td>\n",
       "    </tr>\n",
       "    <tr>\n",
       "      <th>min</th>\n",
       "      <td>8.630000</td>\n",
       "      <td>15.687000</td>\n",
       "    </tr>\n",
       "    <tr>\n",
       "      <th>25%</th>\n",
       "      <td>11.895250</td>\n",
       "      <td>18.716750</td>\n",
       "    </tr>\n",
       "    <tr>\n",
       "      <th>50%</th>\n",
       "      <td>14.356500</td>\n",
       "      <td>21.017500</td>\n",
       "    </tr>\n",
       "    <tr>\n",
       "      <th>75%</th>\n",
       "      <td>16.200750</td>\n",
       "      <td>24.051500</td>\n",
       "    </tr>\n",
       "    <tr>\n",
       "      <th>max</th>\n",
       "      <td>22.328000</td>\n",
       "      <td>35.255000</td>\n",
       "    </tr>\n",
       "  </tbody>\n",
       "</table>\n",
       "</div>"
      ],
      "text/plain": [
       "       Congruent  Incongruent\n",
       "count  24.000000    24.000000\n",
       "mean   14.051125    22.015917\n",
       "std     3.559358     4.797057\n",
       "min     8.630000    15.687000\n",
       "25%    11.895250    18.716750\n",
       "50%    14.356500    21.017500\n",
       "75%    16.200750    24.051500\n",
       "max    22.328000    35.255000"
      ]
     },
     "execution_count": 17,
     "metadata": {},
     "output_type": "execute_result"
    }
   ],
   "source": [
    "data.describe()"
   ]
  },
  {
   "cell_type": "markdown",
   "metadata": {
    "collapsed": false
   },
   "source": [
    "<b>4. Forneça uma ou duas visualizações que mostre a distribuição da amostra de dados. Escreva uma ou duas sentenças sobre o que você observou do gráfico ou gráficos.</b>"
   ]
  },
  {
   "cell_type": "code",
   "execution_count": 35,
   "metadata": {
    "collapsed": false
   },
   "outputs": [
    {
     "data": {
      "text/plain": [
       "<matplotlib.axes._subplots.AxesSubplot at 0xdac1a20>"
      ]
     },
     "execution_count": 35,
     "metadata": {},
     "output_type": "execute_result"
    },
    {
     "data": {
      "image/png": "[encoded data removed]",
      "text/plain": [
       "<matplotlib.figure.Figure at 0xd99bac8>"
      ]
     },
     "metadata": {},
     "output_type": "display_data"
    }
   ],
   "source": [
    "data.plot()"
   ]
  },
  {
   "cell_type": "code",
   "execution_count": 27,
   "metadata": {
    "collapsed": false
   },
   "outputs": [
    {
     "data": {
      "text/plain": [
       "<matplotlib.axes._subplots.AxesSubplot at 0xd43ff60>"
      ]
     },
     "execution_count": 27,
     "metadata": {},
     "output_type": "execute_result"
    },
    {
     "data": {
      "image/png": "[encoded data removed]",
      "text/plain": [
       "<matplotlib.figure.Figure at 0xd5aae80>"
      ]
     },
     "metadata": {},
     "output_type": "display_data"
    }
   ],
   "source": [
    "sns.distplot(data['Congruent'])"
   ]
  },
  {
   "cell_type": "code",
   "execution_count": 29,
   "metadata": {
    "collapsed": false
   },
   "outputs": [
    {
     "data": {
      "text/plain": [
       "<matplotlib.axes._subplots.AxesSubplot at 0xd8404a8>"
      ]
     },
     "execution_count": 29,
     "metadata": {},
     "output_type": "execute_result"
    },
    {
     "data": {
      "image/png": "[encoded data removed]",
      "text/plain": [
       "<matplotlib.figure.Figure at 0xd8c5390>"
      ]
     },
     "metadata": {},
     "output_type": "display_data"
    }
   ],
   "source": [
    "sns.distplot(data['Incongruent'])"
   ]
  },
  {
   "cell_type": "markdown",
   "metadata": {},
   "source": [
    "Os gráficos mostram a distribuição dos tempos de resposta. Ambos os gráficos parecem ter uma assimetria positiva."
   ]
  },
  {
   "cell_type": "markdown",
   "metadata": {},
   "source": [
    "<b>5. Agora desempenhe o teste estatístico e reporte seus resultados. Qual seu nível de confiança e o valor estatístico crítico? Você rejeitou a hipótese nula ou falhou ao tentar rejeitá-la? Encontre uma conclusão em relação ao experimento da tarefa. Os resultados estão de acordo com suas expectativas?</b>"
   ]
  },
  {
   "cell_type": "markdown",
   "metadata": {},
   "source": [
    "Temos as seguintes informações:<br>\n",
    "$\\bar{X}c$ = 14.05<br>\n",
    "$\\bar{X}i$ = 22.01<br>\n",
    "$S_c$ = 3.56<br>\n",
    "$S_i$ = 4.80<br>\n",
    "n = 24<br>\n",
    "graus de liberdade (df) = 23<br>\n",
    "$\\alpha$ = 0.05<br>\n",
    "$t_{critico}$ = -1.714<br>\n",
    "<br>\n",
    "Com isso temos todas as informações para executarmos o teste."
   ]
  },
  {
   "cell_type": "code",
   "execution_count": 52,
   "metadata": {
    "collapsed": true
   },
   "outputs": [],
   "source": [
    "data_diff = data['Congruent'] - data['Incongruent']\n",
    "std_diff = data_diff.std()\n",
    "SEM = std_diff/m.sqrt(data_diff.count())"
   ]
  },
  {
   "cell_type": "code",
   "execution_count": 53,
   "metadata": {
    "collapsed": false
   },
   "outputs": [
    {
     "data": {
      "text/plain": [
       "-8.020706944109955"
      ]
     },
     "execution_count": 53,
     "metadata": {},
     "output_type": "execute_result"
    }
   ],
   "source": [
    "t = (media_congruente - media_incongruente)/SEM\n",
    "t"
   ]
  },
  {
   "cell_type": "markdown",
   "metadata": {},
   "source": [
    "O resultado da estatística t é de aproximadamente <font color='RED'>-8.02</font>. Este valor é menor do que o t crítico, e com isso <font color='RED'>rejeitamos a hipótese nula</font>.<br>\n",
    "Com isso temos um nível de confiança de 95% que o tempo médio de resposta para palavras incongruentes é maior que o tempo médio de resposta para palavras incongruentes. Os resultados estão de acordo com a minha expectativa inicial."
   ]
  },
  {
   "cell_type": "code",
   "execution_count": null,
   "metadata": {
    "collapsed": true
   },
   "outputs": [],
   "source": []
  },
  {
   "cell_type": "markdown",
   "metadata": {},
   "source": [
    "### Referências:\n",
    "http://pages.stat.wisc.edu/~jgillett/327-1/RMarkdown.pdf <br>\n",
    "https://www.udemy.com/learning-python-for-data-analysis-and-visualization/ <br>\n",
    "http://nbviewer.jupyter.org/github/jmportilla/Udemy-notes/tree/master/"
   ]
  },
  {
   "cell_type": "code",
   "execution_count": null,
   "metadata": {
    "collapsed": true
   },
   "outputs": [],
   "source": []
  }
 ],
 "metadata": {
  "anaconda-cloud": {},
  "kernelspec": {
   "display_name": "Python [udacity]",
   "language": "python",
   "name": "Python [udacity]"
  },
  "language_info": {
   "codemirror_mode": {
    "name": "ipython",
    "version": 2
   },
   "file_extension": ".py",
   "mimetype": "text/x-python",
   "name": "python",
   "nbconvert_exporter": "python",
   "pygments_lexer": "ipython2",
   "version": "2.7.12"
  }
 },
 "nbformat": 4,
 "nbformat_minor": 0
}
